{
 "cells": [
  {
   "cell_type": "markdown",
   "id": "56734e1d",
   "metadata": {},
   "source": [
    "##  Python Exception Handling part-01"
   ]
  },
  {
   "cell_type": "code",
   "execution_count": 1,
   "id": "02cec026",
   "metadata": {},
   "outputs": [],
   "source": [
    "a=10"
   ]
  },
  {
   "cell_type": "code",
   "execution_count": 3,
   "id": "86442158",
   "metadata": {},
   "outputs": [
    {
     "name": "stdout",
     "output_type": "stream",
     "text": [
      "Some problem may have occured\n"
     ]
    }
   ],
   "source": [
    "try:\n",
    "    #code block where exection can occur\n",
    "    a=b\n",
    "except:\n",
    "    #message to user\n",
    "    print(\"Some problem may have occured\")"
   ]
  },
  {
   "cell_type": "code",
   "execution_count": 4,
   "id": "28786ae4",
   "metadata": {},
   "outputs": [
    {
     "name": "stdout",
     "output_type": "stream",
     "text": [
      "name 'b' is not defined\n"
     ]
    }
   ],
   "source": [
    "try:\n",
    "    #code block where exection can occur\n",
    "    a=b\n",
    "except Exception as ex: #called the 'Exception' class as this is the Parent class for every exception\n",
    "    #message to user\n",
    "    print(ex)"
   ]
  },
  {
   "cell_type": "code",
   "execution_count": 5,
   "id": "bef6e274",
   "metadata": {},
   "outputs": [
    {
     "name": "stdout",
     "output_type": "stream",
     "text": [
      "User may have not define the variable\n"
     ]
    }
   ],
   "source": [
    "try:\n",
    "    #code block where exection can occur\n",
    "    a=b\n",
    "except NameError as ex1: #user define error by using 'Exception' class.\n",
    "    print(\"User may have not define the variable\")\n",
    "except Exception as ex: #when non of the error called, bydefault this error will be called (Parent Class)\n",
    "    #message to user\n",
    "    print(ex)"
   ]
  },
  {
   "cell_type": "code",
   "execution_count": 6,
   "id": "4b2c4b1d",
   "metadata": {},
   "outputs": [
    {
     "ename": "TypeError",
     "evalue": "unsupported operand type(s) for +: 'int' and 'str'",
     "output_type": "error",
     "traceback": [
      "\u001b[1;31m---------------------------------------------------------------------------\u001b[0m",
      "\u001b[1;31mTypeError\u001b[0m                                 Traceback (most recent call last)",
      "Input \u001b[1;32mIn [6]\u001b[0m, in \u001b[0;36m<cell line: 3>\u001b[1;34m()\u001b[0m\n\u001b[0;32m      1\u001b[0m a\u001b[38;5;241m=\u001b[39m\u001b[38;5;241m1\u001b[39m\n\u001b[0;32m      2\u001b[0m b\u001b[38;5;241m=\u001b[39m\u001b[38;5;124m'\u001b[39m\u001b[38;5;124mS\u001b[39m\u001b[38;5;124m'\u001b[39m\n\u001b[1;32m----> 3\u001b[0m c\u001b[38;5;241m=\u001b[39m\u001b[43ma\u001b[49m\u001b[38;5;241;43m+\u001b[39;49m\u001b[43mb\u001b[49m\n",
      "\u001b[1;31mTypeError\u001b[0m: unsupported operand type(s) for +: 'int' and 'str'"
     ]
    }
   ],
   "source": [
    "a=1\n",
    "b='S'\n",
    "c=a+b #raising another type of error"
   ]
  },
  {
   "cell_type": "code",
   "execution_count": 7,
   "id": "4918f302",
   "metadata": {},
   "outputs": [
    {
     "name": "stdout",
     "output_type": "stream",
     "text": [
      "Try to make the datatype similar\n"
     ]
    }
   ],
   "source": [
    "try:\n",
    "    a=1\n",
    "    b='S'\n",
    "    c=a+b\n",
    "except NameError: #this error will not be handled\n",
    "    print(\"Variable is not define\")\n",
    "except TypeError:\n",
    "    print(\"Try to make the datatype similar\")\n",
    "except Exception as ex:\n",
    "    print(ex)"
   ]
  },
  {
   "cell_type": "code",
   "execution_count": 10,
   "id": "23fd03c3",
   "metadata": {},
   "outputs": [
    {
     "name": "stdout",
     "output_type": "stream",
     "text": [
      "Enter a number:12\n",
      "Enter another number:4\n",
      "16\n",
      "48\n",
      "3.0\n"
     ]
    }
   ],
   "source": [
    "try:\n",
    "    a=int(input(\"Enter a number:\"))\n",
    "    b=int(input(\"Enter another number:\"))\n",
    "    c=a+b\n",
    "    d=a*b\n",
    "    e=a/b\n",
    "    print(c)\n",
    "    print(d)\n",
    "    print(e)\n",
    "except NameError: #this error will not be handled\n",
    "    print(\"Variable is not define\")\n",
    "except TypeError:\n",
    "    print(\"Try to make the datatype similar\")\n",
    "except Exception as ex:\n",
    "    print(ex)    "
   ]
  },
  {
   "cell_type": "code",
   "execution_count": 11,
   "id": "1119b33e",
   "metadata": {},
   "outputs": [
    {
     "ename": "ZeroDivisionError",
     "evalue": "division by zero",
     "output_type": "error",
     "traceback": [
      "\u001b[1;31m---------------------------------------------------------------------------\u001b[0m",
      "\u001b[1;31mZeroDivisionError\u001b[0m                         Traceback (most recent call last)",
      "Input \u001b[1;32mIn [11]\u001b[0m, in \u001b[0;36m<cell line: 1>\u001b[1;34m()\u001b[0m\n\u001b[1;32m----> 1\u001b[0m \u001b[38;5;241;43m12\u001b[39;49m\u001b[38;5;241;43m/\u001b[39;49m\u001b[38;5;241;43m0\u001b[39;49m\n",
      "\u001b[1;31mZeroDivisionError\u001b[0m: division by zero"
     ]
    }
   ],
   "source": [
    "12/0"
   ]
  },
  {
   "cell_type": "code",
   "execution_count": 19,
   "id": "202a2948",
   "metadata": {},
   "outputs": [
    {
     "name": "stdout",
     "output_type": "stream",
     "text": [
      "Enter a number:15\n",
      "Enter another number:5\n",
      "20\n",
      "75\n",
      "3.0\n"
     ]
    }
   ],
   "source": [
    "try:\n",
    "    a=int(input(\"Enter a number:\"))\n",
    "    b=int(input(\"Enter another number:\"))\n",
    "    c=a+b\n",
    "    d=a*b\n",
    "    e=a/b\n",
    "    print(c)\n",
    "    print(d)\n",
    "    print(e)\n",
    "except NameError: #this error will not be handled at the time\n",
    "    print(\"Variable is not define\")   \n",
    "except TypeError:\n",
    "    print(\"Try to make the datatype similar\")\n",
    "except Exception as ex: #this exception class will be handled at the time\n",
    "    print(ex)  "
   ]
  },
  {
   "cell_type": "code",
   "execution_count": 16,
   "id": "8a2cb91a",
   "metadata": {},
   "outputs": [
    {
     "name": "stdout",
     "output_type": "stream",
     "text": [
      "Enter a number:12\n",
      "Enter another number:0\n",
      "Number should be greater than 0 \n"
     ]
    }
   ],
   "source": [
    "try:\n",
    "    a=int(input(\"Enter a number:\"))\n",
    "    b=int(input(\"Enter another number:\"))\n",
    "    c=a+b\n",
    "    d=a*b\n",
    "    e=a/b\n",
    "    print(c)\n",
    "    print(d)\n",
    "    print(e)\n",
    "except NameError: #this error will not be handled at the time\n",
    "    print(\"Variable is not define\")\n",
    "except ZeroDivisionError : #this error will not be handled at the time\n",
    "    print(\"Number should be greater than 0 \")    \n",
    "except TypeError:\n",
    "    print(\"Try to make the datatype similar\")\n",
    "except Exception as ex:\n",
    "    print(ex)    "
   ]
  },
  {
   "cell_type": "code",
   "execution_count": 18,
   "id": "7e2a50e6",
   "metadata": {},
   "outputs": [
    {
     "name": "stdout",
     "output_type": "stream",
     "text": [
      "Enter a number:15\n",
      "Enter another number:0\n",
      "Number should be greater than 0 \n"
     ]
    }
   ],
   "source": [
    "#try else block block\n",
    "try:\n",
    "    a=int(input(\"Enter a number:\"))\n",
    "    b=int(input(\"Enter another number:\"))\n",
    "    c=a+b\n",
    "    d=a*b\n",
    "    e=a/b\n",
    "except NameError: #this error will not be handled at the time\n",
    "    print(\"Variable is not define\")\n",
    "except ZeroDivisionError : #this error will not be handled at the time\n",
    "    print(\"Number should be greater than 0 \")    \n",
    "except TypeError:\n",
    "    print(\"Try to make the datatype similar\")\n",
    "except Exception as ex:\n",
    "    print(ex) \n",
    "else:\n",
    "    #If the try block execute successfully, then else block will be execute\n",
    "    print(c)\n",
    "    print(d)\n",
    "    print(e)"
   ]
  },
  {
   "cell_type": "code",
   "execution_count": 20,
   "id": "803b622b",
   "metadata": {},
   "outputs": [
    {
     "name": "stdout",
     "output_type": "stream",
     "text": [
      "Enter a number:12\n",
      "Enter another number:4\n",
      "16\n",
      "The execution is done\n"
     ]
    }
   ],
   "source": [
    "#try else and finally\n",
    "#try else block block\n",
    "try:\n",
    "    a=int(input(\"Enter a number:\"))\n",
    "    b=int(input(\"Enter another number:\"))\n",
    "    c=a+b\n",
    "except NameError: #this error will not be handled at the time\n",
    "    print(\"Variable is not define\")\n",
    "except ZeroDivisionError : #this error will not be handled at the time\n",
    "    print(\"Number should be greater than 0 \")    \n",
    "except TypeError:\n",
    "    print(\"Try to make the datatype similar\")\n",
    "except Exception as ex:\n",
    "    print(ex) \n",
    "else:\n",
    "    #If the try block execute successfully, then else block will be execute\n",
    "    print(c)\n",
    "finally:\n",
    "    #finally block always will be execute\n",
    "    print(\"The execution is done\")"
   ]
  },
  {
   "cell_type": "markdown",
   "id": "11ebf04b",
   "metadata": {},
   "source": [
    "### Hope you enjoyed the Tutorial"
   ]
  },
  {
   "cell_type": "markdown",
   "id": "63397c7f",
   "metadata": {},
   "source": [
    "### ~ Sandeep Kumar"
   ]
  },
  {
   "cell_type": "code",
   "execution_count": null,
   "id": "eea035d9",
   "metadata": {},
   "outputs": [],
   "source": []
  }
 ],
 "metadata": {
  "kernelspec": {
   "display_name": "Python 3 (ipykernel)",
   "language": "python",
   "name": "python3"
  },
  "language_info": {
   "codemirror_mode": {
    "name": "ipython",
    "version": 3
   },
   "file_extension": ".py",
   "mimetype": "text/x-python",
   "name": "python",
   "nbconvert_exporter": "python",
   "pygments_lexer": "ipython3",
   "version": "3.9.12"
  }
 },
 "nbformat": 4,
 "nbformat_minor": 5
}
