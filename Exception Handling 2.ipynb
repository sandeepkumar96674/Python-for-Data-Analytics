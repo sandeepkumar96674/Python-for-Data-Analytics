{
 "cells": [
  {
   "cell_type": "markdown",
   "id": "c38b18d4",
   "metadata": {},
   "source": [
    "## Python Exception Handling part-2 "
   ]
  },
  {
   "cell_type": "markdown",
   "id": "556a898a",
   "metadata": {},
   "source": [
    "## Custom Exception"
   ]
  },
  {
   "cell_type": "code",
   "execution_count": 1,
   "id": "b2d67ffd",
   "metadata": {},
   "outputs": [],
   "source": [
    "class Error(Exception):\n",
    "    pass\n",
    "class dobException(Error):\n",
    "    pass\n",
    "\n"
   ]
  },
  {
   "cell_type": "code",
   "execution_count": 4,
   "id": "bbc43288",
   "metadata": {},
   "outputs": [
    {
     "name": "stdout",
     "output_type": "stream",
     "text": [
      "Please enter the year of Birth:1674\n",
      "The year age range is not valid, You can not apply for the exam\n"
     ]
    }
   ],
   "source": [
    "year=int(input(\"Please enter the year of Birth:\"))\n",
    "age=2023-year\n",
    "try:\n",
    "    if age<=30 and age>20:\n",
    "        print(\"The age is valid. You can apply for the Exam\")\n",
    "    else:\n",
    "        raise dobException\n",
    "except dobException:\n",
    "    print(\"The age range is not valid, You can not apply for the exam\")"
   ]
  },
  {
   "cell_type": "markdown",
   "id": "08e36941",
   "metadata": {},
   "source": [
    "### More concept will be cover in Part-3\n",
    "### ~ Sandeep Kumar"
   ]
  },
  {
   "cell_type": "code",
   "execution_count": null,
   "id": "4e9ea3ae",
   "metadata": {},
   "outputs": [],
   "source": []
  }
 ],
 "metadata": {
  "kernelspec": {
   "display_name": "Python 3 (ipykernel)",
   "language": "python",
   "name": "python3"
  },
  "language_info": {
   "codemirror_mode": {
    "name": "ipython",
    "version": 3
   },
   "file_extension": ".py",
   "mimetype": "text/x-python",
   "name": "python",
   "nbconvert_exporter": "python",
   "pygments_lexer": "ipython3",
   "version": "3.9.12"
  }
 },
 "nbformat": 4,
 "nbformat_minor": 5
}
